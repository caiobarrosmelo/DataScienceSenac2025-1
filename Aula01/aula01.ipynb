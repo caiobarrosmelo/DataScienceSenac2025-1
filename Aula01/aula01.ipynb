{
 "cells": [
  {
   "cell_type": "markdown",
   "metadata": {},
   "source": [
    "Complete essa primeira célula com o seu nome e turma.\n",
    "\n",
    "Nome: \n",
    "\n",
    "Turma: "
   ]
  },
  {
   "cell_type": "markdown",
   "metadata": {},
   "source": [
    "O conceito de variáveis em Python é fundamental para quem está começando a aprender a linguagem. Vamos detalhar um pouco mais sobre como as variáveis funcionam em Python, destacando a natureza orientada a objetos da linguagem e o conceito de referência.\n",
    "\n",
    "### Tudo é Objeto\n",
    "Em Python, tudo é objeto. Isso significa que tipos de dados simples, como números e strings, bem como estruturas de dados mais complexas, são tratados como objetos. Cada objeto em Python é uma instância de algum tipo ou classe. Esses objetos possuem identidade (um endereço único na memória), tipo (que define as operações que o objeto suporta) e valor.\n",
    "\n",
    "### Variáveis como Referências\n",
    "Quando você cria uma variável em Python e atribui um valor a ela, o que você está realmente fazendo é criando uma referência a um objeto. As variáveis em Python são como etiquetas que você cola em objetos para identificá-los. Isso é diferente de linguagens de programação de baixo nível, onde uma variável armazena diretamente o valor."
   ]
  },
  {
   "cell_type": "code",
   "execution_count": null,
   "metadata": {},
   "outputs": [],
   "source": [
    "x = \n",
    "y = \n",
    "\n",
    "print(\"x vale \",x)\n",
    "print(\"y vale \",y)"
   ]
  },
  {
   "cell_type": "markdown",
   "metadata": {},
   "source": [
    "### Tipagem Dinâmica:\n",
    "\n",
    "Em Python, não é necessário declarar o tipo de uma variável quando ela é criada. O interpretador Python automaticamente detecta o tipo de dado da variável com base no valor que lhe é atribuído. Isso é conhecido como tipagem dinâmica."
   ]
  },
  {
   "cell_type": "code",
   "execution_count": null,
   "metadata": {},
   "outputs": [],
   "source": [
    "print(\"x é uma variável do tipo: \", type(x))\n",
    "print(\"y é uma variável do tipo: \", type(y))"
   ]
  },
  {
   "cell_type": "code",
   "execution_count": null,
   "metadata": {},
   "outputs": [],
   "source": [
    "x = \n",
    "y = \n",
    "print(x + y)"
   ]
  },
  {
   "cell_type": "markdown",
   "metadata": {},
   "source": [
    "Perceba que trocamos o tipo de variável sem nenhum prejuízo.\n",
    "\n",
    "#### Vantagens:\n",
    "\n",
    "- Flexibilidade: Os programadores podem escrever código mais rápido e com menos linhas, uma vez que não é necessário declarar tipos de dados explicitamente.\n",
    "- Facilidade de Uso: A tipagem dinâmica torna Python uma linguagem muito acessível para iniciantes, pois eles podem começar a programar sem a necessidade de entender sistemas de tipos complexos.\n",
    "- Código mais legível e limpo: Ao eliminar a necessidade de declarações de tipo explícitas, o código tende a ser mais conciso e focado na lógica do programa em vez da gestão de tipos.\n",
    "\n",
    "#### Desvantagens:\n",
    "\n",
    "- Erros em Tempo de Execução: Erros relacionados a tipos de dados podem não ser detectados até o programa ser executado. Isso pode levar a bugs que são mais difíceis de rastrear e corrigir.\n",
    "- Desempenho: A verificação de tipos em tempo de execução pode tornar a execução do programa mais lenta em comparação com linguagens estaticamente tipadas, onde a compatibilidade de tipos é determinada em tempo de compilação.\n",
    "\n",
    "**Atenção:** Apesar do Python ser dinamicamente tipado, isso não significa que o interpretador realiza conversões automáticas.  Por exemplo, tentar concatenar uma string e um número diretamente resultará em um erro, em vez de converter silenciosamente o número em uma string."
   ]
  },
  {
   "cell_type": "code",
   "execution_count": 6,
   "metadata": {},
   "outputs": [
    {
     "data": {
      "text/plain": [
       "4"
      ]
     },
     "execution_count": 6,
     "metadata": {},
     "output_type": "execute_result"
    }
   ],
   "source": [
    "x + 3"
   ]
  },
  {
   "cell_type": "markdown",
   "metadata": {},
   "source": [
    "## Inteiros"
   ]
  },
  {
   "cell_type": "code",
   "execution_count": 9,
   "metadata": {},
   "outputs": [
    {
     "name": "stdout",
     "output_type": "stream",
     "text": [
      "a soma de x + y é igual a 4585652\n"
     ]
    }
   ],
   "source": [
    "x = 1\n",
    "y = 4585651\n",
    "print (\"a soma de x + y é igual a\", x+y)"
   ]
  },
  {
   "cell_type": "markdown",
   "metadata": {},
   "source": [
    "## Float"
   ]
  },
  {
   "cell_type": "code",
   "execution_count": 11,
   "metadata": {},
   "outputs": [
    {
     "name": "stdout",
     "output_type": "stream",
     "text": [
      "1.32385\n"
     ]
    }
   ],
   "source": [
    "x = 1\n",
    "y = 0.32385\n",
    "print (x + y)"
   ]
  },
  {
   "cell_type": "markdown",
   "metadata": {},
   "source": [
    "## Bool"
   ]
  },
  {
   "cell_type": "code",
   "execution_count": 12,
   "metadata": {},
   "outputs": [
    {
     "name": "stdout",
     "output_type": "stream",
     "text": [
      "False\n"
     ]
    }
   ],
   "source": [
    "x = 6\n",
    "y = 4\n",
    "a = 2\n",
    "print (a>y+x)"
   ]
  },
  {
   "cell_type": "markdown",
   "metadata": {},
   "source": [
    "## None Type"
   ]
  },
  {
   "cell_type": "code",
   "execution_count": 20,
   "metadata": {},
   "outputs": [
    {
     "name": "stdout",
     "output_type": "stream",
     "text": [
      "None brasil 123\n"
     ]
    },
    {
     "ename": "TypeError",
     "evalue": "unsupported operand type(s) for +: 'NoneType' and 'str'",
     "output_type": "error",
     "traceback": [
      "\u001b[1;31m---------------------------------------------------------------------------\u001b[0m",
      "\u001b[1;31mTypeError\u001b[0m                                 Traceback (most recent call last)",
      "Cell \u001b[1;32mIn[20], line 5\u001b[0m\n\u001b[0;32m      3\u001b[0m c \u001b[38;5;241m=\u001b[39m \u001b[38;5;241m123\u001b[39m\n\u001b[0;32m      4\u001b[0m \u001b[38;5;28mprint\u001b[39m (a,b,c)\n\u001b[1;32m----> 5\u001b[0m \u001b[38;5;28mprint\u001b[39m (\u001b[43ma\u001b[49m\u001b[38;5;241;43m+\u001b[39;49m\u001b[43mb\u001b[49m\u001b[38;5;241m+\u001b[39mc)\n",
      "\u001b[1;31mTypeError\u001b[0m: unsupported operand type(s) for +: 'NoneType' and 'str'"
     ]
    }
   ],
   "source": [
    "a = None\n",
    "b = \"brasil\"\n",
    "c = 123\n",
    "print (a,b,c)\n",
    "print (a+b+c)\n",
    "\n"
   ]
  },
  {
   "cell_type": "markdown",
   "metadata": {},
   "source": [
    "## String"
   ]
  },
  {
   "cell_type": "code",
   "execution_count": 34,
   "metadata": {},
   "outputs": [
    {
     "name": "stdout",
     "output_type": "stream",
     "text": [
      "só lembro daquela frase do Tropa de Elite: o sistema é f*** parceiro\n"
     ]
    }
   ],
   "source": [
    "a = \"o sistema é f*** parceiro\"\n",
    "b = \"só lembro daquela frase do Tropa de Elite:\"\n",
    "print(b,a)"
   ]
  },
  {
   "cell_type": "code",
   "execution_count": 33,
   "metadata": {},
   "outputs": [
    {
     "name": "stdout",
     "output_type": "stream",
     "text": [
      "Nome: Caio Barros Melo, Idade: 26\n",
      "Meu nome comeca com a letra  C\n",
      "Meu nome em caixa alta   CAIO BARROS MELO\n",
      "Meu primeiro nome é  Caio\n"
     ]
    }
   ],
   "source": [
    "nome = \"Caio Barros Melo\"\n",
    "idade = \"26\"\n",
    "\n",
    "print (\"Nome: %s, Idade: %s\" % (nome,idade))\n",
    "print (\"Meu nome comeca com a letra \", nome[0])\n",
    "print (\"Meu nome em caixa alta  \", nome.upper())\n",
    "print (\"Meu primeiro nome é \", nome[0:4])"
   ]
  },
  {
   "cell_type": "markdown",
   "metadata": {},
   "source": [
    "Podemos fazer conversões para resolver os eventuais problemas com tipagem:"
   ]
  },
  {
   "cell_type": "code",
   "execution_count": 37,
   "metadata": {},
   "outputs": [
    {
     "name": "stdout",
     "output_type": "stream",
     "text": [
      "8.4\n"
     ]
    }
   ],
   "source": [
    "a = float(22/5)\n",
    "b = int (4.5)\n",
    "c = int (3.9)\n",
    "d = int(0xff563)\n",
    "e = float(int(3.9))\n",
    "f = int(float(3.9))\n",
    "g = int (float(3))\n",
    "h = round(3.9)\n",
    "i = round (3)\n",
    "j = int(round(3.9))\n",
    "\n",
    "print (a+b)\n"
   ]
  }
 ],
 "metadata": {
  "kernelspec": {
   "display_name": ".venv",
   "language": "python",
   "name": "python3"
  },
  "language_info": {
   "codemirror_mode": {
    "name": "ipython",
    "version": 3
   },
   "file_extension": ".py",
   "mimetype": "text/x-python",
   "name": "python",
   "nbconvert_exporter": "python",
   "pygments_lexer": "ipython3",
   "version": "3.11.9"
  }
 },
 "nbformat": 4,
 "nbformat_minor": 2
}
